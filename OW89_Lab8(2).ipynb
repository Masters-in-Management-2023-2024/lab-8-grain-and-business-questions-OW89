{
  "cells": [
    {
      "cell_type": "markdown",
      "metadata": {
        "id": "SoN1lijHqyFz"
      },
      "source": [
        "# Diamond Company Analytics Challenge\n",
        "\n",
        "**Time:** 35 minutes\n",
        "\n",
        "**Scenario:** You are the new data analyst at a prestigious diamond company. The CEO has called an urgent meeting and needs answers to critical business questions about the inventory.\n",
        "\n",
        "**Your Mission:** Analyze the diamond inventory data and provide insights to guide strategic decisions."
      ]
    },
    {
      "cell_type": "code",
      "execution_count": 1,
      "metadata": {
        "id": "jMvrfTnEqyF0",
        "outputId": "920ce53b-a09d-42b5-d6e7-b55f4c83430c",
        "colab": {
          "base_uri": "https://localhost:8080/"
        }
      },
      "outputs": [
        {
          "output_type": "stream",
          "name": "stdout",
          "text": [
            "Loading diamonds dataset...\n",
            "Dataset loaded successfully!\n"
          ]
        }
      ],
      "source": [
        "import polars as pl\n",
        "\n",
        "# Load the diamonds dataset\n",
        "print(\"Loading diamonds dataset...\")\n",
        "df = pl.read_csv('https://raw.githubusercontent.com/pycaret/pycaret/master/datasets/diamond.csv')\n",
        "print(\"Dataset loaded successfully!\")"
      ]
    },
    {
      "cell_type": "markdown",
      "metadata": {
        "id": "QALeCp51qyF0"
      },
      "source": [
        "## Section 1: Initial Inventory Assessment (5 minutes)\n",
        "\n",
        "The CEO walks in: \"Before we dive into specifics, I need to understand what we're working with. Give me the basics about our inventory database.\""
      ]
    },
    {
      "cell_type": "markdown",
      "metadata": {
        "id": "7PAbp30KqyF0"
      },
      "source": [
        "### Question 1: \"How extensive is our inventory database?\"\n",
        "\n",
        "The CEO needs to know the scale of data you're analyzing."
      ]
    },
    {
      "cell_type": "code",
      "execution_count": 2,
      "metadata": {
        "id": "NTsVC5p4qyF0",
        "colab": {
          "base_uri": "https://localhost:8080/"
        },
        "outputId": "3d66bc65-aa29-4879-d7e8-23e6f500bfa7"
      },
      "outputs": [
        {
          "output_type": "stream",
          "name": "stdout",
          "text": [
            "There are 6000 diamonds\n"
          ]
        }
      ],
      "source": [
        "# Your code here:\n",
        "print(f\"There are {len(df)} diamonds\")"
      ]
    },
    {
      "cell_type": "markdown",
      "metadata": {
        "id": "5sGgckhGqyF0"
      },
      "source": [
        "### Question 2: \"What information do we track about each diamond?\"\n",
        "\n",
        "List all the characteristics we record."
      ]
    },
    {
      "cell_type": "code",
      "execution_count": 3,
      "metadata": {
        "id": "GHJzSTlNqyF0",
        "colab": {
          "base_uri": "https://localhost:8080/"
        },
        "outputId": "8428903a-4114-46bf-aefe-117f41f23d50"
      },
      "outputs": [
        {
          "output_type": "stream",
          "name": "stdout",
          "text": [
            "the information we are tracking are the ['Carat Weight', 'Cut', 'Color', 'Clarity', 'Polish', 'Symmetry', 'Report', 'Price'] of each diamond\n"
          ]
        }
      ],
      "source": [
        "# Your code here:\n",
        "print(f\"the information we are tracking are the {df.columns} of each diamond\")"
      ]
    },
    {
      "cell_type": "markdown",
      "metadata": {
        "id": "4jgHG_HRqyF0"
      },
      "source": [
        "### Question 3: \"When I look at one line in this database, what am I looking at?\"\n",
        "\n",
        "Explain in business terms:"
      ]
    },
    {
      "cell_type": "markdown",
      "metadata": {
        "id": "kDv03BbbqyF0"
      },
      "source": [
        "**Your answer:** Each row represents: One singular diamond in inventory"
      ]
    },
    {
      "cell_type": "markdown",
      "metadata": {
        "id": "5cZZrsJpqyF0"
      },
      "source": [
        "## Section 2: Strategic Business Questions (20 minutes)\n",
        "\n",
        "The CEO continues: \"Now let's get to the important questions. Our board meeting is tomorrow and I need concrete numbers.\""
      ]
    },
    {
      "cell_type": "markdown",
      "metadata": {
        "id": "a0Smpt7yqyF0"
      },
      "source": [
        "### Question 4: \"We're considering expanding our storage facilities. How many total carats do we have in inventory? I need to know if our vaults can handle the weight.\"\n",
        "\n",
        "Think about what measurement would help answer this."
      ]
    },
    {
      "cell_type": "code",
      "execution_count": 4,
      "metadata": {
        "id": "Btg-jLvGqyF0",
        "colab": {
          "base_uri": "https://localhost:8080/"
        },
        "outputId": "9f1793fe-213b-4a1c-d8d0-dde96146831a"
      },
      "outputs": [
        {
          "output_type": "stream",
          "name": "stdout",
          "text": [
            "Total weight of all diamonds in inventory: 8,007.12 carat\n"
          ]
        }
      ],
      "source": [
        "# Your code here:\n",
        "#we need to find the sum() of all the diamonds in inventory\n",
        "\n",
        "total_weight = df.select(pl.col(\"Carat Weight\").sum()).item()\n",
        "print(f\"Total weight of all diamonds in inventory: {total_weight:,.2f} carat\")"
      ]
    },
    {
      "cell_type": "markdown",
      "metadata": {
        "id": "VgqHuwuzqyF0"
      },
      "source": [
        "### Question 5: \"Our new marketing campaign claims we have 'the widest variety of cuts in the industry.' Can you verify this?\"\n",
        "\n",
        "The CEO wants to know about variety, not quantity."
      ]
    },
    {
      "cell_type": "code",
      "execution_count": 9,
      "metadata": {
        "id": "2nX6245QqyF0",
        "colab": {
          "base_uri": "https://localhost:8080/"
        },
        "outputId": "d36a9bcc-d9c0-4e56-98af-392ad5c1a6a2"
      },
      "outputs": [
        {
          "output_type": "stream",
          "name": "stdout",
          "text": [
            "Number of unique cuts: 5\n",
            "The unique cuts are: ['Fair', 'Good', 'Very Good', 'Signature-Ideal', 'Ideal']\n"
          ]
        }
      ],
      "source": [
        "# Your code here:\n",
        "\n",
        "## Need info on cuts - agg/group_by\n",
        "\n",
        "\n",
        "unique_cut = df.select(pl.col(\"Cut\").n_unique()).item()\n",
        "print(f\"Number of unique cuts: {unique_cut}\")\n",
        "\n",
        "print(f\"The unique cuts are: {df.select(pl.col('Cut').unique()).to_numpy().flatten().tolist()}\")"
      ]
    },
    {
      "cell_type": "markdown",
      "metadata": {
        "id": "Z0ans4OBqyF0"
      },
      "source": [
        "### Question 6: \"I'm meeting with our insurance company. They need to know our price exposure - what's our most and least valuable diamond?\""
      ]
    },
    {
      "cell_type": "code",
      "execution_count": 10,
      "metadata": {
        "id": "ppluqsgHqyF0",
        "colab": {
          "base_uri": "https://localhost:8080/"
        },
        "outputId": "17ba4964-08ca-4565-a0f5-89c9314da65d"
      },
      "outputs": [
        {
          "output_type": "stream",
          "name": "stdout",
          "text": [
            "The most valuable diamond is worth: $101,561.00\n",
            "The least valuable diamond is worth: $2,184.00\n"
          ]
        }
      ],
      "source": [
        "# Your code here:\n",
        "\n",
        "##min(), Max()\n",
        "\n",
        "min_price = df.select(pl.col(\"Price\")).min().item()\n",
        "max_price = df.select(pl.col(\"Price\")).max().item()\n",
        "\n",
        "print(f\"The most valuable diamond is worth: ${max_price:,.2f}\")\n",
        "print(f\"The least valuable diamond is worth: ${min_price:,.2f}\")\n"
      ]
    },
    {
      "cell_type": "markdown",
      "metadata": {
        "id": "wS7mTMbWqyF0"
      },
      "source": [
        "### Question 7: \"Which color grades should we focus on in our premium line? I need typical prices across our color spectrum.\"\n",
        "\n",
        "The CEO wants to understand pricing patterns."
      ]
    },
    {
      "cell_type": "code",
      "execution_count": 11,
      "metadata": {
        "id": "Rz9rYYcFqyF0",
        "colab": {
          "base_uri": "https://localhost:8080/",
          "height": 304
        },
        "outputId": "2797fb88-b0ac-48a4-ba36-0ccf03be6233"
      },
      "outputs": [
        {
          "output_type": "stream",
          "name": "stdout",
          "text": [
            "Number of rows: 6\n"
          ]
        },
        {
          "output_type": "execute_result",
          "data": {
            "text/plain": [
              "shape: (6, 3)\n",
              "┌───────┬──────────────┬───────┐\n",
              "│ Color ┆ avg_price    ┆ count │\n",
              "│ ---   ┆ ---          ┆ ---   │\n",
              "│ str   ┆ f64          ┆ u32   │\n",
              "╞═══════╪══════════════╪═══════╡\n",
              "│ D     ┆ 15255.783661 ┆ 661   │\n",
              "│ F     ┆ 12712.241856 ┆ 1013  │\n",
              "│ G     ┆ 12520.050633 ┆ 1501  │\n",
              "│ E     ┆ 11539.190231 ┆ 778   │\n",
              "│ H     ┆ 10487.347544 ┆ 1079  │\n",
              "│ I     ┆ 8989.636364  ┆ 968   │\n",
              "└───────┴──────────────┴───────┘"
            ],
            "text/html": [
              "<div><style>\n",
              ".dataframe > thead > tr,\n",
              ".dataframe > tbody > tr {\n",
              "  text-align: right;\n",
              "  white-space: pre-wrap;\n",
              "}\n",
              "</style>\n",
              "<small>shape: (6, 3)</small><table border=\"1\" class=\"dataframe\"><thead><tr><th>Color</th><th>avg_price</th><th>count</th></tr><tr><td>str</td><td>f64</td><td>u32</td></tr></thead><tbody><tr><td>&quot;D&quot;</td><td>15255.783661</td><td>661</td></tr><tr><td>&quot;F&quot;</td><td>12712.241856</td><td>1013</td></tr><tr><td>&quot;G&quot;</td><td>12520.050633</td><td>1501</td></tr><tr><td>&quot;E&quot;</td><td>11539.190231</td><td>778</td></tr><tr><td>&quot;H&quot;</td><td>10487.347544</td><td>1079</td></tr><tr><td>&quot;I&quot;</td><td>8989.636364</td><td>968</td></tr></tbody></table></div>"
            ]
          },
          "metadata": {},
          "execution_count": 11
        }
      ],
      "source": [
        "# Your code here:\n",
        "\n",
        "#avg price of color - group by. agg.\n",
        "\n",
        "result = df.group_by(\"Color\").agg(\n",
        "    pl.col(\"Price\").mean().alias(\"avg_price\"),\n",
        "    pl.len().alias(\"count\")\n",
        ").sort(\"avg_price\", descending=True)\n",
        "\n",
        "print(f\"Number of rows: {len(result)}\")\n",
        "result\n",
        "\n"
      ]
    },
    {
      "cell_type": "markdown",
      "metadata": {
        "id": "UTyazI37qyF0"
      },
      "source": [
        "**Reflection:** After analyzing by color, how has your view of the data changed? What does each row in your result represent now?"
      ]
    },
    {
      "cell_type": "markdown",
      "metadata": {
        "id": "_7CltCIHqyF0"
      },
      "source": [
        "**Your answer:** New grain ="
      ]
    },
    {
      "cell_type": "markdown",
      "metadata": {
        "id": "0vW-WXxfqyF0"
      },
      "source": [
        "## Section 3: Advanced Strategic Analysis (10 minutes)\n",
        "\n",
        "The CEO leans forward: \"These next questions will shape our strategy for next year.\""
      ]
    },
    {
      "cell_type": "markdown",
      "metadata": {
        "id": "mq164zvAqyF0"
      },
      "source": [
        "### Question 8: \"We're thinking of specializing in certain clarity grades. For our investor deck, I need a complete breakdown showing: how many diamonds we have in each clarity grade, their typical price, and the total carats we're holding for each grade.\""
      ]
    },
    {
      "cell_type": "code",
      "execution_count": 12,
      "metadata": {
        "id": "HUTBWRUcqyF0",
        "colab": {
          "base_uri": "https://localhost:8080/",
          "height": 318
        },
        "outputId": "0ccb8133-1e66-4404-d014-23a473e786de"
      },
      "outputs": [
        {
          "output_type": "execute_result",
          "data": {
            "text/plain": [
              "shape: (7, 4)\n",
              "┌─────────┬──────────────┬───────┬──────────────┐\n",
              "│ Clarity ┆ avg_price    ┆ count ┆ total_weight │\n",
              "│ ---     ┆ ---          ┆ ---   ┆ ---          │\n",
              "│ str     ┆ f64          ┆ u32   ┆ f64          │\n",
              "╞═════════╪══════════════╪═══════╪══════════════╡\n",
              "│ VVS2    ┆ 14142.177177 ┆ 666   ┆ 876.58       │\n",
              "│ VVS1    ┆ 16845.680702 ┆ 285   ┆ 389.43       │\n",
              "│ VS2     ┆ 11809.053333 ┆ 1575  ┆ 2170.81      │\n",
              "│ VS1     ┆ 13694.113255 ┆ 1192  ┆ 1682.74      │\n",
              "│ SI1     ┆ 8018.864012  ┆ 2059  ┆ 2563.69      │\n",
              "│ IF      ┆ 22105.844749 ┆ 219   ┆ 316.0        │\n",
              "│ FL      ┆ 63776.0      ┆ 4     ┆ 7.87         │\n",
              "└─────────┴──────────────┴───────┴──────────────┘"
            ],
            "text/html": [
              "<div><style>\n",
              ".dataframe > thead > tr,\n",
              ".dataframe > tbody > tr {\n",
              "  text-align: right;\n",
              "  white-space: pre-wrap;\n",
              "}\n",
              "</style>\n",
              "<small>shape: (7, 4)</small><table border=\"1\" class=\"dataframe\"><thead><tr><th>Clarity</th><th>avg_price</th><th>count</th><th>total_weight</th></tr><tr><td>str</td><td>f64</td><td>u32</td><td>f64</td></tr></thead><tbody><tr><td>&quot;VVS2&quot;</td><td>14142.177177</td><td>666</td><td>876.58</td></tr><tr><td>&quot;VVS1&quot;</td><td>16845.680702</td><td>285</td><td>389.43</td></tr><tr><td>&quot;VS2&quot;</td><td>11809.053333</td><td>1575</td><td>2170.81</td></tr><tr><td>&quot;VS1&quot;</td><td>13694.113255</td><td>1192</td><td>1682.74</td></tr><tr><td>&quot;SI1&quot;</td><td>8018.864012</td><td>2059</td><td>2563.69</td></tr><tr><td>&quot;IF&quot;</td><td>22105.844749</td><td>219</td><td>316.0</td></tr><tr><td>&quot;FL&quot;</td><td>63776.0</td><td>4</td><td>7.87</td></tr></tbody></table></div>"
            ]
          },
          "metadata": {},
          "execution_count": 12
        }
      ],
      "source": [
        "# Your code here:\n",
        "\n",
        "result3 = df.group_by(\"Clarity\").agg(\n",
        "    pl.col(\"Price\").mean().alias(\"avg_price\"),\n",
        "    pl.len().alias(\"count\"),\n",
        "    pl.col(\"Carat Weight\").sum().alias(\"total_weight\")\n",
        ").sort(\"Clarity\", descending=True)\n",
        "\n",
        "result3\n"
      ]
    },
    {
      "cell_type": "markdown",
      "metadata": {
        "id": "igJYzNkoqyF0"
      },
      "source": [
        "### Question 9: \"My luxury competitor claims they have the best prices for every cut-color combination. Show me our pricing structure across these combinations - I want to see where we're competitive.\""
      ]
    },
    {
      "cell_type": "code",
      "execution_count": null,
      "metadata": {
        "id": "dTi0TS3eqyF0",
        "colab": {
          "base_uri": "https://localhost:8080/",
          "height": 443
        },
        "outputId": "0edb0841-73bd-4418-8272-6d7387b9b507"
      },
      "outputs": [
        {
          "output_type": "execute_result",
          "data": {
            "text/plain": [
              "shape: (30, 4)\n",
              "┌───────────┬───────┬──────────────┬───────┐\n",
              "│ Cut       ┆ Color ┆ avg_price    ┆ count │\n",
              "│ ---       ┆ ---   ┆ ---          ┆ ---   │\n",
              "│ str       ┆ str   ┆ f64          ┆ u32   │\n",
              "╞═══════════╪═══════╪══════════════╪═══════╡\n",
              "│ Fair      ┆ D     ┆ 6058.25      ┆ 12    │\n",
              "│ Fair      ┆ E     ┆ 5370.625     ┆ 32    │\n",
              "│ Fair      ┆ F     ┆ 6063.625     ┆ 24    │\n",
              "│ Fair      ┆ G     ┆ 7345.52381   ┆ 21    │\n",
              "│ Fair      ┆ H     ┆ 5908.5       ┆ 24    │\n",
              "│ …         ┆ …     ┆ …            ┆ …     │\n",
              "│ Very Good ┆ E     ┆ 12101.910217 ┆ 323   │\n",
              "│ Very Good ┆ F     ┆ 12413.905495 ┆ 455   │\n",
              "│ Very Good ┆ G     ┆ 12354.013841 ┆ 578   │\n",
              "│ Very Good ┆ H     ┆ 10056.106132 ┆ 424   │\n",
              "│ Very Good ┆ I     ┆ 8930.031332  ┆ 383   │\n",
              "└───────────┴───────┴──────────────┴───────┘"
            ],
            "text/html": [
              "<div><style>\n",
              ".dataframe > thead > tr,\n",
              ".dataframe > tbody > tr {\n",
              "  text-align: right;\n",
              "  white-space: pre-wrap;\n",
              "}\n",
              "</style>\n",
              "<small>shape: (30, 4)</small><table border=\"1\" class=\"dataframe\"><thead><tr><th>Cut</th><th>Color</th><th>avg_price</th><th>count</th></tr><tr><td>str</td><td>str</td><td>f64</td><td>u32</td></tr></thead><tbody><tr><td>&quot;Fair&quot;</td><td>&quot;D&quot;</td><td>6058.25</td><td>12</td></tr><tr><td>&quot;Fair&quot;</td><td>&quot;E&quot;</td><td>5370.625</td><td>32</td></tr><tr><td>&quot;Fair&quot;</td><td>&quot;F&quot;</td><td>6063.625</td><td>24</td></tr><tr><td>&quot;Fair&quot;</td><td>&quot;G&quot;</td><td>7345.52381</td><td>21</td></tr><tr><td>&quot;Fair&quot;</td><td>&quot;H&quot;</td><td>5908.5</td><td>24</td></tr><tr><td>&hellip;</td><td>&hellip;</td><td>&hellip;</td><td>&hellip;</td></tr><tr><td>&quot;Very Good&quot;</td><td>&quot;E&quot;</td><td>12101.910217</td><td>323</td></tr><tr><td>&quot;Very Good&quot;</td><td>&quot;F&quot;</td><td>12413.905495</td><td>455</td></tr><tr><td>&quot;Very Good&quot;</td><td>&quot;G&quot;</td><td>12354.013841</td><td>578</td></tr><tr><td>&quot;Very Good&quot;</td><td>&quot;H&quot;</td><td>10056.106132</td><td>424</td></tr><tr><td>&quot;Very Good&quot;</td><td>&quot;I&quot;</td><td>8930.031332</td><td>383</td></tr></tbody></table></div>"
            ]
          },
          "metadata": {},
          "execution_count": 20
        }
      ],
      "source": [
        "# Your code here:\n",
        "result4 = df.group_by([\"Cut\", \"Color\"]).agg(\n",
        "    pl.col(\"Price\").mean().alias(\"avg_price\"),\n",
        "    pl.len().alias(\"count\")\n",
        ").sort([\"Cut\", \"Color\"])\n",
        "\n",
        "result4.head(30)\n"
      ]
    },
    {
      "cell_type": "markdown",
      "metadata": {
        "id": "1fTRCjtuqyF0"
      },
      "source": [
        "**Reflection:** How specific is your analysis now? What level of detail does each row represent?"
      ]
    },
    {
      "cell_type": "markdown",
      "metadata": {
        "id": "Tm-tBGezqyF1"
      },
      "source": [
        "**Your answer:** New grain = The average price of each cut-color combination"
      ]
    },
    {
      "cell_type": "markdown",
      "metadata": {
        "id": "gJh838CrqyF1"
      },
      "source": [
        "### Question 10: URGENT - \"Our biggest client is interested in purchasing entire inventory segments. They asked: 'Which color-cut combinations represent your highest total inventory value?' Show me the top 5 most valuable inventory segments by total worth, and include how many diamonds are in each segment.\"\n",
        "\n",
        "This is critical for tomorrow's negotiation."
      ]
    },
    {
      "cell_type": "code",
      "execution_count": 13,
      "metadata": {
        "id": "VShagBO3qyF1",
        "colab": {
          "base_uri": "https://localhost:8080/",
          "height": 255
        },
        "outputId": "9931c2d5-ecc2-47ee-d8b2-273892a0f2f1"
      },
      "outputs": [
        {
          "output_type": "execute_result",
          "data": {
            "text/plain": [
              "shape: (5, 5)\n",
              "┌───────────┬───────┬──────────────┬─────────────┬───────┐\n",
              "│ Cut       ┆ Color ┆ avg_price    ┆ total_value ┆ count │\n",
              "│ ---       ┆ ---   ┆ ---          ┆ ---         ┆ ---   │\n",
              "│ str       ┆ str   ┆ f64          ┆ i64         ┆ u32   │\n",
              "╞═══════════╪═══════╪══════════════╪═════════════╪═══════╡\n",
              "│ Ideal     ┆ G     ┆ 13570.310145 ┆ 9363514     ┆ 690   │\n",
              "│ Very Good ┆ G     ┆ 12354.013841 ┆ 7140620     ┆ 578   │\n",
              "│ Very Good ┆ F     ┆ 12413.905495 ┆ 5648327     ┆ 455   │\n",
              "│ Ideal     ┆ F     ┆ 14729.426997 ┆ 5346782     ┆ 363   │\n",
              "│ Ideal     ┆ H     ┆ 11527.700873 ┆ 5279687     ┆ 458   │\n",
              "└───────────┴───────┴──────────────┴─────────────┴───────┘"
            ],
            "text/html": [
              "<div><style>\n",
              ".dataframe > thead > tr,\n",
              ".dataframe > tbody > tr {\n",
              "  text-align: right;\n",
              "  white-space: pre-wrap;\n",
              "}\n",
              "</style>\n",
              "<small>shape: (5, 5)</small><table border=\"1\" class=\"dataframe\"><thead><tr><th>Cut</th><th>Color</th><th>avg_price</th><th>total_value</th><th>count</th></tr><tr><td>str</td><td>str</td><td>f64</td><td>i64</td><td>u32</td></tr></thead><tbody><tr><td>&quot;Ideal&quot;</td><td>&quot;G&quot;</td><td>13570.310145</td><td>9363514</td><td>690</td></tr><tr><td>&quot;Very Good&quot;</td><td>&quot;G&quot;</td><td>12354.013841</td><td>7140620</td><td>578</td></tr><tr><td>&quot;Very Good&quot;</td><td>&quot;F&quot;</td><td>12413.905495</td><td>5648327</td><td>455</td></tr><tr><td>&quot;Ideal&quot;</td><td>&quot;F&quot;</td><td>14729.426997</td><td>5346782</td><td>363</td></tr><tr><td>&quot;Ideal&quot;</td><td>&quot;H&quot;</td><td>11527.700873</td><td>5279687</td><td>458</td></tr></tbody></table></div>"
            ]
          },
          "metadata": {},
          "execution_count": 13
        }
      ],
      "source": [
        "# Your code here:\n",
        "\n",
        "result5 = df.group_by([\"Cut\", \"Color\"]).agg(\n",
        "    pl.col(\"Price\").mean().alias(\"avg_price\"),\n",
        "    pl.col(\"Price\").sum().alias(\"total_value\"),\n",
        "    pl.len().alias(\"count\"),\n",
        "\n",
        ").sort(\"total_value\", descending=True)\n",
        "\n",
        "result5.head(5)"
      ]
    },
    {
      "cell_type": "markdown",
      "metadata": {
        "id": "oQ5Hy_BkqyF1"
      },
      "source": [
        "## Debrief\n",
        "\n",
        "Congratulations! You've just completed your first day as the diamond company's data analyst.\n",
        "\n",
        "Remember:\n",
        "- CEOs speak in business language, not technical terms\n",
        "- Always understand what each row represents before analyzing\n",
        "- Business questions contain clues about which operations to use"
      ]
    }
  ],
  "metadata": {
    "kernelspec": {
      "display_name": "Python 3",
      "language": "python",
      "name": "python3"
    },
    "language_info": {
      "codemirror_mode": {
        "name": "ipython",
        "version": 3
      },
      "file_extension": ".py",
      "mimetype": "text/x-python",
      "name": "python",
      "nbconvert_exporter": "python",
      "pygments_lexer": "ipython3",
      "version": "3.12.0"
    },
    "colab": {
      "provenance": []
    }
  },
  "nbformat": 4,
  "nbformat_minor": 0
}